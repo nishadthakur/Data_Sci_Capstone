{
 "cells": [
  {
   "cell_type": "markdown",
   "metadata": {
    "collapsed": true
   },
   "source": [
    "<H1 align=\"center\"> City Of Gold Mumbai </H1>\n",
    "\n",
    "In this module, you will start working on the capstone project. You will clearly define a problem and discuss the data that you will be using to solve the problem.\n",
    "\n",
    "\n"
   ]
  },
  {
   "cell_type": "markdown",
   "metadata": {},
   "source": [
    "## Introduction ##"
   ]
  },
  {
   "cell_type": "markdown",
   "metadata": {},
   "source": [
    "The City of Mumbai, also known as the City of Dreams is the financial capital of India. by comparing the different neighborhood of Mumbai on the basis of a variety of factors.\n",
    "\n",
    "## Problem Statement: ##\n",
    "Exploring and Clustering the neighborhoods of Mumbai city on the basis of several factors in order to find similarity among them thus helping anyone looking to live in the neighborhood.\n",
    "This will not be comparing the rent of the city since the pandemic situation has change the rental space in the City\n",
    "\n",
    "Data :\n",
    "https://en.wikipedia.org/wiki/List_of_neighbourhoods_in_Mumbai\n",
    "\n",
    "foursquare API\n",
    "\n",
    "Here Maps API\n"
   ]
  },
  {
   "cell_type": "code",
   "execution_count": null,
   "metadata": {},
   "outputs": [],
   "source": []
  }
 ],
 "metadata": {
  "kernelspec": {
   "display_name": "Python 3.7",
   "language": "python",
   "name": "python3"
  },
  "language_info": {
   "codemirror_mode": {
    "name": "ipython",
    "version": 3
   },
   "file_extension": ".py",
   "mimetype": "text/x-python",
   "name": "python",
   "nbconvert_exporter": "python",
   "pygments_lexer": "ipython3",
   "version": "3.7.10"
  }
 },
 "nbformat": 4,
 "nbformat_minor": 1
}
